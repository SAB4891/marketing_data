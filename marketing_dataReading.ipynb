{
 "cells": [
  {
   "cell_type": "code",
   "execution_count": 1,
   "metadata": {},
   "outputs": [],
   "source": [
    "import pandas as pd \n",
    "import numpy as np "
   ]
  },
  {
   "cell_type": "code",
   "execution_count": 2,
   "metadata": {
    "scrolled": true
   },
   "outputs": [
    {
     "name": "stdout",
     "output_type": "stream",
     "text": [
      "ï»¿Citation Request:\n",
      "  This dataset is publicly available for research. The details are described in [Moro et al., 2014]. \n",
      "  Please include this citation if you plan to use this database:\n",
      "\n",
      "  [Moro et al., 2014] S. Moro, P. Cortez and P. Rita. A Data-Driven Approach to Predict the Success of Bank Telemarketing. Decision Support Systems, In press, http://dx.doi.org/10.1016/j.dss.2014.03.001\n",
      "\n",
      "  Available at: [pdf] http://dx.doi.org/10.1016/j.dss.2014.03.001\n",
      "                [bib] http://www3.dsi.uminho.pt/pcortez/bib/2014-dss.txt\n",
      "\n",
      "1. Title: Bank Marketing (with social/economic context)\n",
      "\n",
      "2. Sources\n",
      "   Created by: SÃ©rgio Moro (ISCTE-IUL), Paulo Cortez (Univ. Minho) and Paulo Rita (ISCTE-IUL) @ 2014\n",
      "   \n",
      "3. Past Usage:\n",
      "\n",
      "  The full dataset (bank-additional-full.csv) was described and analyzed in:\n",
      "\n",
      "  S. Moro, P. Cortez and P. Rita. A Data-Driven Approach to Predict the Success of Bank Telemarketing. Decision Support Systems (2014), doi:10.1016/j.dss.2014.03.001.\n",
      " \n",
      "4. Relevant Information:\n",
      "\n",
      "   This dataset is based on \"Bank Marketing\" UCI dataset (please check the description at: http://archive.ics.uci.edu/ml/datasets/Bank+Marketing).\n",
      "   The data is enriched by the addition of five new social and economic features/attributes (national wide indicators from a ~10M population country), published by the Banco de Portugal and publicly available at: https://www.bportugal.pt/estatisticasweb.\n",
      "   This dataset is almost identical to the one used in [Moro et al., 2014] (it does not include all attributes due to privacy concerns). \n",
      "   Using the rminer package and R tool (http://cran.r-project.org/web/packages/rminer/), we found that the addition of the five new social and economic attributes (made available here) lead to substantial improvement in the prediction of a success, even when the duration of the call is not included. Note: the file can be read in R using: d=read.table(\"bank-additional-full.csv\",header=TRUE,sep=\";\")\n",
      "   \n",
      "   The zip file includes two datasets: \n",
      "      1) bank-additional-full.csv with all examples, ordered by date (from May 2008 to November 2010).\n",
      "      2) bank-additional.csv with 10% of the examples (4119), randomly selected from bank-additional-full.csv.\n",
      "   The smallest dataset is provided to test more computationally demanding machine learning algorithms (e.g., SVM).\n",
      "\n",
      "   The binary classification goal is to predict if the client will subscribe a bank term deposit (variable y).\n",
      "\n",
      "5. Number of Instances: 41188 for bank-additional-full.csv\n",
      "\n",
      "6. Number of Attributes: 20 + output attribute.\n",
      "\n",
      "7. Attribute information:\n",
      "\n",
      "   For more information, read [Moro et al., 2014].\n",
      "\n",
      "   Input variables:\n",
      "   # bank client data:\n",
      "   1 - age (numeric)\n",
      "   2 - job : type of job (categorical: \"admin.\",\"blue-collar\",\"entrepreneur\",\"housemaid\",\"management\",\"retired\",\"self-employed\",\"services\",\"student\",\"technician\",\"unemployed\",\"unknown\")\n",
      "   3 - marital : marital status (categorical: \"divorced\",\"married\",\"single\",\"unknown\"; note: \"divorced\" means divorced or widowed)\n",
      "   4 - education (categorical: \"basic.4y\",\"basic.6y\",\"basic.9y\",\"high.school\",\"illiterate\",\"professional.course\",\"university.degree\",\"unknown\")\n",
      "   5 - default: has credit in default? (categorical: \"no\",\"yes\",\"unknown\")\n",
      "   6 - housing: has housing loan? (categorical: \"no\",\"yes\",\"unknown\")\n",
      "   7 - loan: has personal loan? (categorical: \"no\",\"yes\",\"unknown\")\n",
      "   # related with the last contact of the current campaign:\n",
      "   8 - contact: contact communication type (categorical: \"cellular\",\"telephone\") \n",
      "   9 - month: last contact month of year (categorical: \"jan\", \"feb\", \"mar\", ..., \"nov\", \"dec\")\n",
      "  10 - day_of_week: last contact day of the week (categorical: \"mon\",\"tue\",\"wed\",\"thu\",\"fri\")\n",
      "  11 - duration: last contact duration, in seconds (numeric). Important note:  this attribute highly affects the output target (e.g., if duration=0 then y=\"no\"). Yet, the duration is not known before a call is performed. Also, after the end of the call y is obviously known. Thus, this input should only be included for benchmark purposes and should be discarded if the intention is to have a realistic predictive model.\n",
      "   # other attributes:\n",
      "  12 - campaign: number of contacts performed during this campaign and for this client (numeric, includes last contact)\n",
      "  13 - pdays: number of days that passed by after the client was last contacted from a previous campaign (numeric; 999 means client was not previously contacted)\n",
      "  14 - previous: number of contacts performed before this campaign and for this client (numeric)\n",
      "  15 - poutcome: outcome of the previous marketing campaign (categorical: \"failure\",\"nonexistent\",\"success\")\n",
      "   # social and economic context attributes\n",
      "  16 - emp.var.rate: employment variation rate - quarterly indicator (numeric)\n",
      "  17 - cons.price.idx: consumer price index - monthly indicator (numeric)     \n",
      "  18 - cons.conf.idx: consumer confidence index - monthly indicator (numeric)     \n",
      "  19 - euribor3m: euribor 3 month rate - daily indicator (numeric)\n",
      "  20 - nr.employed: number of employees - quarterly indicator (numeric)\n",
      "\n",
      "  Output variable (desired target):\n",
      "  21 - y - has the client subscribed a term deposit? (binary: \"yes\",\"no\")\n",
      "\n",
      "8. Missing Attribute Values: There are several missing values in some categorical attributes, all coded with the \"unknown\" label. These missing values can be treated as a possible class label or using deletion or imputation techniques. \n",
      "\n"
     ]
    }
   ],
   "source": [
    "f = open(\"bank-additional-names.txt\", \"r\")\n",
    "print(f.read())"
   ]
  },
  {
   "cell_type": "code",
   "execution_count": 96,
   "metadata": {},
   "outputs": [],
   "source": [
    "train_data = pd.read_csv(\"bank-additional-full.csv\", sep=\";\")\n",
    "test_data = pd.read_csv(\"bank-additional.csv\", sep=\";\")"
   ]
  },
  {
   "cell_type": "code",
   "execution_count": 4,
   "metadata": {},
   "outputs": [],
   "source": [
    "#find columns where there is missing values \n",
    "\n",
    "def find_missingV_cols(data):\n",
    "    a=list(data.columns)\n",
    "    for col in a:\n",
    "        if str(any(data[col].isna()))==\"True\":\n",
    "            print(col)\n",
    "        else:\n",
    "            print('No NA values in {}'.format(col))"
   ]
  },
  {
   "cell_type": "code",
   "execution_count": 5,
   "metadata": {},
   "outputs": [
    {
     "name": "stdout",
     "output_type": "stream",
     "text": [
      "No NA values in age\n",
      "No NA values in job\n",
      "No NA values in marital\n",
      "No NA values in education\n",
      "No NA values in default\n",
      "No NA values in housing\n",
      "No NA values in loan\n",
      "No NA values in contact\n",
      "No NA values in month\n",
      "No NA values in day_of_week\n",
      "No NA values in duration\n",
      "No NA values in campaign\n",
      "No NA values in pdays\n",
      "No NA values in previous\n",
      "No NA values in poutcome\n",
      "No NA values in emp.var.rate\n",
      "No NA values in cons.price.idx\n",
      "No NA values in cons.conf.idx\n",
      "No NA values in euribor3m\n",
      "No NA values in nr.employed\n",
      "No NA values in y\n"
     ]
    }
   ],
   "source": [
    "find_missingV_cols(train_data)"
   ]
  },
  {
   "cell_type": "code",
   "execution_count": 6,
   "metadata": {},
   "outputs": [
    {
     "name": "stdout",
     "output_type": "stream",
     "text": [
      "No NA values in age\n",
      "No NA values in job\n",
      "No NA values in marital\n",
      "No NA values in education\n",
      "No NA values in default\n",
      "No NA values in housing\n",
      "No NA values in loan\n",
      "No NA values in contact\n",
      "No NA values in month\n",
      "No NA values in day_of_week\n",
      "No NA values in duration\n",
      "No NA values in campaign\n",
      "No NA values in pdays\n",
      "No NA values in previous\n",
      "No NA values in poutcome\n",
      "No NA values in emp.var.rate\n",
      "No NA values in cons.price.idx\n",
      "No NA values in cons.conf.idx\n",
      "No NA values in euribor3m\n",
      "No NA values in nr.employed\n",
      "No NA values in y\n"
     ]
    }
   ],
   "source": [
    "find_missingV_cols(test_data)"
   ]
  },
  {
   "cell_type": "code",
   "execution_count": 7,
   "metadata": {},
   "outputs": [
    {
     "data": {
      "text/plain": [
       "41188"
      ]
     },
     "execution_count": 7,
     "metadata": {},
     "output_type": "execute_result"
    }
   ],
   "source": [
    "len(train_data)"
   ]
  },
  {
   "cell_type": "code",
   "execution_count": 8,
   "metadata": {},
   "outputs": [
    {
     "data": {
      "text/plain": [
       "10700"
      ]
     },
     "execution_count": 8,
     "metadata": {},
     "output_type": "execute_result"
    }
   ],
   "source": [
    "len(train_data[(train_data.marital==\"unknown\")|(train_data.job==\"unknown\")|\n",
    "           (train_data.education==\"unknown\")|(train_data.default==\"unknown\")|\n",
    "           (train_data.housing==\"unknown\")|(train_data.loan==\"unknown\")])"
   ]
  },
  {
   "cell_type": "code",
   "execution_count": 9,
   "metadata": {},
   "outputs": [
    {
     "data": {
      "text/plain": [
       "0.26"
      ]
     },
     "execution_count": 9,
     "metadata": {},
     "output_type": "execute_result"
    }
   ],
   "source": [
    "unknown_proportion = round(10700/41188,2)\n",
    "unknown_proportion"
   ]
  },
  {
   "cell_type": "code",
   "execution_count": 10,
   "metadata": {},
   "outputs": [
    {
     "data": {
      "text/plain": [
       "no     36548\n",
       "yes     4640\n",
       "Name: y, dtype: int64"
      ]
     },
     "execution_count": 10,
     "metadata": {},
     "output_type": "execute_result"
    }
   ],
   "source": [
    "train_data.y.value_counts()"
   ]
  },
  {
   "cell_type": "code",
   "execution_count": 11,
   "metadata": {},
   "outputs": [
    {
     "data": {
      "text/plain": [
       "0.127"
      ]
     },
     "execution_count": 11,
     "metadata": {},
     "output_type": "execute_result"
    }
   ],
   "source": [
    "prop_of_subscribed = round(4640/36548,4)\n",
    "prop_of_subscribed"
   ]
  },
  {
   "cell_type": "code",
   "execution_count": 12,
   "metadata": {},
   "outputs": [
    {
     "data": {
      "image/png": "[encoded data removed]",
      "text/plain": [
       "<Figure size 432x288 with 1 Axes>"
      ]
     },
     "metadata": {
      "needs_background": "light"
     },
     "output_type": "display_data"
    }
   ],
   "source": [
    "import matplotlib.pyplot as plt \n",
    "%matplotlib inline \n",
    "plt.bar(x= ['no', 'yes'], height = train_data.y.value_counts())\n",
    "plt.ylabel('subscription Count')\n",
    "plt.title('term deposit subscription')\n",
    "plt.show()"
   ]
  }
 ],
 "metadata": {
  "kernelspec": {
   "display_name": "Python 3",
   "language": "python",
   "name": "python3"
  },
  "language_info": {
   "codemirror_mode": {
    "name": "ipython",
    "version": 3
   },
   "file_extension": ".py",
   "mimetype": "text/x-python",
   "name": "python",
   "nbconvert_exporter": "python",
   "pygments_lexer": "ipython3",
   "version": "3.6.9"
  }
 },
 "nbformat": 4,
 "nbformat_minor": 2
}
